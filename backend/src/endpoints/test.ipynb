{
 "cells": [
  {
   "cell_type": "code",
   "execution_count": 12,
   "metadata": {},
   "outputs": [
    {
     "ename": "ValueError",
     "evalue": "No valid JSON found in prompt_response",
     "output_type": "error",
     "traceback": [
      "\u001b[1;31m---------------------------------------------------------------------------\u001b[0m",
      "\u001b[1;31mValueError\u001b[0m                                Traceback (most recent call last)",
      "Cell \u001b[1;32mIn[12], line 60\u001b[0m\n\u001b[0;32m     57\u001b[0m prompt_response \u001b[38;5;241m=\u001b[39m \u001b[38;5;124m'''\u001b[39m\u001b[38;5;124mChatCompletion(id=\u001b[39m\u001b[38;5;124m'\u001b[39m\u001b[38;5;124mchatcmpl-AB03Aq0x8drkP5uAvUSsA9IHDGPqT\u001b[39m\u001b[38;5;124m'\u001b[39m\u001b[38;5;124m, choices=[Choice(finish_reason=\u001b[39m\u001b[38;5;124m'\u001b[39m\u001b[38;5;124mstop\u001b[39m\u001b[38;5;124m'\u001b[39m\u001b[38;5;124m, index=0, logprobs=None, message=ChatCompletionMessage(content=\u001b[39m\u001b[38;5;124m'\u001b[39m\u001b[38;5;124m{\u001b[39m\u001b[38;5;130;01m\\n\u001b[39;00m\u001b[38;5;124m  \u001b[39m\u001b[38;5;124m\"\u001b[39m\u001b[38;5;124mmessage\u001b[39m\u001b[38;5;124m\"\u001b[39m\u001b[38;5;124m: \u001b[39m\u001b[38;5;124m\"\u001b[39m\u001b[38;5;124mI found some chocolate products for you:<br/><ul><li>KitKat White Chocolate 41.5g</li><li>Nestle Milkybar White Chocolate 25g</li><li>KitKat Chunky 50g</li><li>KitKat 4 Finger Bar 41.5g</li></ul>\u001b[39m\u001b[38;5;124m\"\u001b[39m\u001b[38;5;124m,\u001b[39m\u001b[38;5;130;01m\\n\u001b[39;00m\u001b[38;5;124m  \u001b[39m\u001b[38;5;124m\"\u001b[39m\u001b[38;5;124mproduct_ids\u001b[39m\u001b[38;5;124m\"\u001b[39m\u001b[38;5;124m: [27, 30, 19, 13]\u001b[39m\u001b[38;5;130;01m\\n\u001b[39;00m\u001b[38;5;124m}\u001b[39m\u001b[38;5;124m'\u001b[39m\u001b[38;5;124m, refusal=None, role=\u001b[39m\u001b[38;5;124m'\u001b[39m\u001b[38;5;124massistant\u001b[39m\u001b[38;5;124m'\u001b[39m\u001b[38;5;124m, function_call=None, tool_calls=None))], created=1727185164, model=\u001b[39m\u001b[38;5;124m'\u001b[39m\u001b[38;5;124mgpt-3.5-turbo-0125\u001b[39m\u001b[38;5;124m'\u001b[39m\u001b[38;5;124m, object=\u001b[39m\u001b[38;5;124m'\u001b[39m\u001b[38;5;124mchat.completion\u001b[39m\u001b[38;5;124m'\u001b[39m\u001b[38;5;124m, service_tier=None, system_fingerprint=None, usage=CompletionUsage(completion_tokens=95, prompt_tokens=1125, total_tokens=1220, completion_tokens_details=\u001b[39m\u001b[38;5;124m{\u001b[39m\u001b[38;5;124m'\u001b[39m\u001b[38;5;124mreasoning_tokens\u001b[39m\u001b[38;5;124m'\u001b[39m\u001b[38;5;124m: 0}))\u001b[39m\u001b[38;5;124m'''\u001b[39m\n\u001b[0;32m     59\u001b[0m \u001b[38;5;66;03m# Run the function\u001b[39;00m\n\u001b[1;32m---> 60\u001b[0m output \u001b[38;5;241m=\u001b[39m \u001b[43mextract_product_ids\u001b[49m\u001b[43m(\u001b[49m\u001b[43mmessages\u001b[49m\u001b[43m,\u001b[49m\u001b[43m \u001b[49m\u001b[43mprompt_response\u001b[49m\u001b[43m)\u001b[49m\n\u001b[0;32m     61\u001b[0m \u001b[38;5;28mprint\u001b[39m(json\u001b[38;5;241m.\u001b[39mdumps(output, indent\u001b[38;5;241m=\u001b[39m\u001b[38;5;241m2\u001b[39m))\n",
      "Cell \u001b[1;32mIn[12], line 10\u001b[0m, in \u001b[0;36mextract_product_ids\u001b[1;34m(messages, prompt_response)\u001b[0m\n\u001b[0;32m      8\u001b[0m json_match \u001b[38;5;241m=\u001b[39m re\u001b[38;5;241m.\u001b[39msearch(\u001b[38;5;124mr\u001b[39m\u001b[38;5;124m'\u001b[39m\u001b[38;5;124mmessage=ChatCompletionMessage\u001b[39m\u001b[38;5;124m\\\u001b[39m\u001b[38;5;124m(content=\u001b[39m\u001b[38;5;130;01m\\'\u001b[39;00m\u001b[38;5;124m(.*?)\u001b[39m\u001b[38;5;130;01m\\'\u001b[39;00m\u001b[38;5;124m\\\u001b[39m\u001b[38;5;124m)\u001b[39m\u001b[38;5;124m'\u001b[39m, prompt_response)\n\u001b[0;32m      9\u001b[0m \u001b[38;5;28;01mif\u001b[39;00m \u001b[38;5;129;01mnot\u001b[39;00m json_match:\n\u001b[1;32m---> 10\u001b[0m     \u001b[38;5;28;01mraise\u001b[39;00m \u001b[38;5;167;01mValueError\u001b[39;00m(\u001b[38;5;124m\"\u001b[39m\u001b[38;5;124mNo valid JSON found in prompt_response\u001b[39m\u001b[38;5;124m\"\u001b[39m)\n\u001b[0;32m     12\u001b[0m \u001b[38;5;66;03m# Extract the JSON part\u001b[39;00m\n\u001b[0;32m     13\u001b[0m json_str \u001b[38;5;241m=\u001b[39m json_match\u001b[38;5;241m.\u001b[39mgroup(\u001b[38;5;241m1\u001b[39m)\u001b[38;5;241m.\u001b[39mreplace(\u001b[38;5;124m\"\u001b[39m\u001b[38;5;124m'\u001b[39m\u001b[38;5;124m\"\u001b[39m, \u001b[38;5;124m'\u001b[39m\u001b[38;5;124m\"\u001b[39m\u001b[38;5;124m'\u001b[39m)\n",
      "\u001b[1;31mValueError\u001b[0m: No valid JSON found in prompt_response"
     ]
    }
   ],
   "source": [
    "import json\n",
    "import re\n",
    "\n",
    "def extract_product_ids(messages, prompt_response):\n",
    "    # Extract the JSON string from the prompt_response\n",
    "\n",
    " \n",
    "    json_match = re.search(r'message=ChatCompletionMessage\\(content=\\'(.*?)\\'\\)', prompt_response)\n",
    "    if not json_match:\n",
    "        raise ValueError(\"No valid JSON found in prompt_response\")\n",
    "\n",
    "    # Extract the JSON part\n",
    "    json_str = json_match.group(1).replace(\"'\", '\"')\n",
    "    \n",
    "    # Fix the single quotes to double quotes for valid JSON\n",
    "    json_str = json_str.replace(\"'\", '\"')\n",
    "    \n",
    "    # Parse the valid JSON string\n",
    "    response_dict = json.loads(json_str)\n",
    "   \n",
    "    product_ids = response_dict['product_ids']\n",
    "    \n",
    "    # Extract the product names from the HTML formatted message\n",
    "    product_names = re.findall(r'<li>(.*?)<\\/li>', response_dict['message'])\n",
    "\n",
    "    # Extract products from messages\n",
    "    message_content = messages[-1]['content']  # The last message is the function call content\n",
    "    products_data = json.loads(re.search(r'\\[(.*?)\\]', message_content).group(0))\n",
    "\n",
    "    # Create a mapping from product name to product ID\n",
    "    product_id_map = {product['product_name']: product['product_id'] for product in products_data}\n",
    "\n",
    "    # Prepare the output\n",
    "    matched_product_names = []\n",
    "    matched_product_ids = []\n",
    "\n",
    "    for name in product_names:\n",
    "        if name in product_id_map:\n",
    "            matched_product_names.append(name)\n",
    "            matched_product_ids.append(product_id_map[name])\n",
    "\n",
    "    # Create the final response\n",
    "    final_response = {\n",
    "        \"message\": f\"I found the following chocolate products for you:<br/><ul>\" + ''.join(f\"<li>{name}</li>\" for name in matched_product_names) + \"</ul>\",\n",
    "        \"product_ids\": matched_product_ids\n",
    "    }\n",
    "    \n",
    "    return final_response\n",
    "\n",
    "# Sample inputs\n",
    "messages = [\n",
    "    {'role': 'system', 'content': '[Style]\\nWhenever you are listing things, use HTML tags...'},\n",
    "    {'role': 'assistant', 'content': \"Hello, I am here to help with your shopping.\"},\n",
    "    {'role': 'user', 'content': 'Filter by chocolate\\n'},\n",
    "    {'role': 'function', 'content': '@agent-action: You found the restaurant page(s) for [{\"search_type\":\"product\",\"product_id\":27,\"product_name\":\"KitKat White Chocolate 41.5g\",\"product_quantity\":\"41.5g\",\"product_brand\":\"Nestle\",\"product_price\":1.9,\"product_category\":\"Confectionery\"},{\"search_type\":\"product\",\"product_id\":30,\"product_name\":\"Nestle Milkybar White Chocolate 25g\",\"product_quantity\":\"25g\",\"product_brand\":\"Nestle\",\"product_price\":1.5,\"product_category\":\"Confectionery\"},{\"search_type\":\"product\",\"product_id\":19,\"product_name\":\"KitKat Chunky 50g\",\"product_quantity\":\"50g\",\"product_brand\":\"Nestle\",\"product_price\":2,\"product_category\":\"Confectionery\"},{\"search_type\":\"product\",\"product_id\":5,\"product_name\":\"Coca-Cola Cherry 1.5L\",\"product_quantity\":\"1.5L\",\"product_brand\":\"Coca-Cola\",\"product_price\":2.2,\"product_category\":\"Beverages\"}]!', 'name': 'get_products'}\n",
    "]\n",
    "prompt_response = '''ChatCompletion(id='chatcmpl-AB03Aq0x8drkP5uAvUSsA9IHDGPqT', choices=[Choice(finish_reason='stop', index=0, logprobs=None, message=ChatCompletionMessage(content='{\\n  \"message\": \"I found some chocolate products for you:<br/><ul><li>KitKat White Chocolate 41.5g</li><li>Nestle Milkybar White Chocolate 25g</li><li>KitKat Chunky 50g</li><li>KitKat 4 Finger Bar 41.5g</li></ul>\",\\n  \"product_ids\": [27, 30, 19, 13]\\n}', refusal=None, role='assistant', function_call=None, tool_calls=None))], created=1727185164, model='gpt-3.5-turbo-0125', object='chat.completion', service_tier=None, system_fingerprint=None, usage=CompletionUsage(completion_tokens=95, prompt_tokens=1125, total_tokens=1220, completion_tokens_details={'reasoning_tokens': 0}))'''\n",
    "\n",
    "# Run the function\n",
    "output = extract_product_ids(messages, prompt_response)\n",
    "print(json.dumps(output, indent=2))\n"
   ]
  }
 ],
 "metadata": {
  "kernelspec": {
   "display_name": "Python 3",
   "language": "python",
   "name": "python3"
  },
  "language_info": {
   "codemirror_mode": {
    "name": "ipython",
    "version": 3
   },
   "file_extension": ".py",
   "mimetype": "text/x-python",
   "name": "python",
   "nbconvert_exporter": "python",
   "pygments_lexer": "ipython3",
   "version": "3.9.6"
  }
 },
 "nbformat": 4,
 "nbformat_minor": 2
}
