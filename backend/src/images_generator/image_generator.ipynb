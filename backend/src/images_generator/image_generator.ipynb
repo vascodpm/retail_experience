{
 "cells": [
  {
   "cell_type": "code",
   "execution_count": 1,
   "metadata": {},
   "outputs": [],
   "source": [
    "\n",
    "import sys\n",
    "\n",
    "sys.path.append(\"..\")\n",
    "from data.database import SessionLocal\n",
    "from data.data_models import Products\n",
    "\n",
    "from tqdm import tqdm"
   ]
  },
  {
   "cell_type": "code",
   "execution_count": 2,
   "metadata": {},
   "outputs": [
    {
     "name": "stdout",
     "output_type": "stream",
     "text": [
      "Generating restaurant images...\n",
      "[<data.data_models.Products object at 0x000001ADEC33D310>, <data.data_models.Products object at 0x000001ADEC33D2B0>, <data.data_models.Products object at 0x000001ADEC33D340>, <data.data_models.Products object at 0x000001ADEC33D3A0>, <data.data_models.Products object at 0x000001ADEC33D3D0>, <data.data_models.Products object at 0x000001ADEC33D460>, <data.data_models.Products object at 0x000001ADEC33D4F0>, <data.data_models.Products object at 0x000001ADEC33D580>, <data.data_models.Products object at 0x000001ADEC33D610>, <data.data_models.Products object at 0x000001ADEC33D6A0>, <data.data_models.Products object at 0x000001ADEC33D730>, <data.data_models.Products object at 0x000001ADEC33D8B0>, <data.data_models.Products object at 0x000001ADEC33D940>, <data.data_models.Products object at 0x000001ADEC33D9D0>, <data.data_models.Products object at 0x000001ADEC33DA60>, <data.data_models.Products object at 0x000001ADEC33DAF0>, <data.data_models.Products object at 0x000001ADEC33DEB0>, <data.data_models.Products object at 0x000001ADEC33DF40>, <data.data_models.Products object at 0x000001ADEC33DFD0>, <data.data_models.Products object at 0x000001ADEC33DD30>, <data.data_models.Products object at 0x000001ADEC33DC70>, <data.data_models.Products object at 0x000001ADEC369040>, <data.data_models.Products object at 0x000001ADEC3690A0>, <data.data_models.Products object at 0x000001ADEC369130>, <data.data_models.Products object at 0x000001ADEC3691C0>, <data.data_models.Products object at 0x000001ADEC369250>, <data.data_models.Products object at 0x000001ADEC3692E0>, <data.data_models.Products object at 0x000001ADEC369370>, <data.data_models.Products object at 0x000001ADEC369400>, <data.data_models.Products object at 0x000001ADEC3694C0>, <data.data_models.Products object at 0x000001ADEC369520>, <data.data_models.Products object at 0x000001ADEC3695B0>]\n"
     ]
    },
    {
     "name": "stderr",
     "output_type": "stream",
     "text": [
      "100%|██████████| 32/32 [10:48<00:00, 20.28s/it]\n"
     ]
    }
   ],
   "source": [
    "\n",
    "import os\n",
    "import requests\n",
    "from openai import OpenAI\n",
    "from sqlalchemy.orm import Session\n",
    "from dotenv import load_dotenv\n",
    "load_dotenv(dotenv_path=\"../../.env\")\n",
    "\n",
    "client = OpenAI()\n",
    "def generate_and_save_image(prompt, filename):\n",
    "    # Check if the image already exists\n",
    "    if not os.path.exists(filename):\n",
    "        response = client.images.generate(\n",
    "            model=\"dall-e-3\",\n",
    "            prompt=prompt,\n",
    "            size=\"1024x1024\",\n",
    "            quality=\"standard\",\n",
    "            n=1,\n",
    "        )\n",
    "\n",
    "        image_url = response.data[0].url\n",
    "        image_response = requests.get(image_url)\n",
    "        \n",
    "        # Ensure the directory exists\n",
    "        os.makedirs(os.path.dirname(filename), exist_ok=True)\n",
    "        \n",
    "        with open(filename, 'wb') as f:\n",
    "            f.write(image_response.content)\n",
    "    else:\n",
    "        print(f\"Image already exists: {filename}\")\n",
    "\n",
    "def process_restaurants(db: Session):\n",
    "    products = db.query(Products).all()\n",
    "    print(\"Generating restaurant images...\")\n",
    "    print(products)\n",
    "    for product in tqdm(products):\n",
    "        try:\n",
    "            prompt = (\n",
    "                f\"Generate a highly realistic, high-resolution thumbnail image of a {product.name} by {product.brand} with quantity {product.quantity} \"\n",
    "                f\"The product should be displayed on a clean, white background with soft, natural shadows to create a realistic depth effect. \"\n",
    "                f\"Focus on capturing intricate details, textures, and accurate branding elements of the product. \"\n",
    "                f\"Ensure the logo and brand markings are clearly visible and correctly represented. \"\n",
    "                f\"The product must be centered and evenly lit to ensure a professional and appealing appearance, suitable for an online store.\"\n",
    "            )\n",
    "            filename = os.path.join('../../../frontend/src/assets/', product.image)\n",
    "            generate_and_save_image(prompt, filename)\n",
    "        except Exception as e:\n",
    "            print(e)\n",
    "\n",
    "\n",
    "# Get the database session\n",
    "db = SessionLocal()\n",
    "\n",
    "try:\n",
    "    # Process restaurants and foods\n",
    "    process_restaurants(db)\n",
    "except Exception as e:\n",
    "    print(e)\n",
    "\n",
    "finally:\n",
    "    # Close the session\n",
    "    db.close()"
   ]
  }
 ],
 "metadata": {
  "kernelspec": {
   "display_name": "Python 3",
   "language": "python",
   "name": "python3"
  },
  "language_info": {
   "codemirror_mode": {
    "name": "ipython",
    "version": 3
   },
   "file_extension": ".py",
   "mimetype": "text/x-python",
   "name": "python",
   "nbconvert_exporter": "python",
   "pygments_lexer": "ipython3",
   "version": "3.9.6"
  },
  "orig_nbformat": 4
 },
 "nbformat": 4,
 "nbformat_minor": 2
}
