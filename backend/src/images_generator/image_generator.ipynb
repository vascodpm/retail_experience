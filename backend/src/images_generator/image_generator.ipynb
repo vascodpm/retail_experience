{
 "cells": [
  {
   "cell_type": "code",
   "execution_count": 1,
   "metadata": {},
   "outputs": [],
   "source": [
    "\n",
    "import sys\n",
    "\n",
    "sys.path.append(\"..\")\n",
    "from data.database import SessionLocal\n",
    "from data.data_models import Products\n",
    "\n",
    "from tqdm import tqdm"
   ]
  },
  {
   "cell_type": "code",
   "execution_count": 2,
   "metadata": {},
   "outputs": [
    {
     "name": "stdout",
     "output_type": "stream",
     "text": [
      "Generating restaurant images...\n",
      "[<data.data_models.Products object at 0x000001E768AB0370>, <data.data_models.Products object at 0x000001E768AB0310>, <data.data_models.Products object at 0x000001E768AB03A0>, <data.data_models.Products object at 0x000001E768AB0400>, <data.data_models.Products object at 0x000001E768AB0430>, <data.data_models.Products object at 0x000001E768AB04C0>, <data.data_models.Products object at 0x000001E768AB0550>, <data.data_models.Products object at 0x000001E768AB05E0>, <data.data_models.Products object at 0x000001E768AB0670>, <data.data_models.Products object at 0x000001E768AB0700>, <data.data_models.Products object at 0x000001E768AB0790>, <data.data_models.Products object at 0x000001E768AB0820>, <data.data_models.Products object at 0x000001E768AB08B0>, <data.data_models.Products object at 0x000001E768AB0940>, <data.data_models.Products object at 0x000001E768AB09D0>, <data.data_models.Products object at 0x000001E768AB0A60>, <data.data_models.Products object at 0x000001E768AB0AF0>, <data.data_models.Products object at 0x000001E768AB0B80>, <data.data_models.Products object at 0x000001E768AB0C10>, <data.data_models.Products object at 0x000001E768AB0CA0>, <data.data_models.Products object at 0x000001E768AB0D30>, <data.data_models.Products object at 0x000001E768AB0DC0>, <data.data_models.Products object at 0x000001E768AB0E50>, <data.data_models.Products object at 0x000001E768AB0EE0>, <data.data_models.Products object at 0x000001E768AB0F70>]\n"
     ]
    },
    {
     "name": "stderr",
     "output_type": "stream",
     "text": [
      "100%|██████████| 25/25 [07:16<00:00, 17.48s/it]\n"
     ]
    }
   ],
   "source": [
    "\n",
    "import os\n",
    "import requests\n",
    "from openai import OpenAI\n",
    "from sqlalchemy.orm import Session\n",
    "from dotenv import load_dotenv\n",
    "load_dotenv(dotenv_path=\"../../.env\")\n",
    "\n",
    "client = OpenAI()\n",
    "def generate_and_save_image(prompt, filename):\n",
    "    # Check if the image already exists\n",
    "    if not os.path.exists(filename):\n",
    "        response = client.images.generate(\n",
    "            model=\"dall-e-3\",\n",
    "            prompt=prompt,\n",
    "            size=\"1024x1024\",\n",
    "            quality=\"standard\",\n",
    "            n=1,\n",
    "        )\n",
    "\n",
    "        image_url = response.data[0].url\n",
    "        image_response = requests.get(image_url)\n",
    "        \n",
    "        # Ensure the directory exists\n",
    "        os.makedirs(os.path.dirname(filename), exist_ok=True)\n",
    "        \n",
    "        with open(filename, 'wb') as f:\n",
    "            f.write(image_response.content)\n",
    "    else:\n",
    "        print(f\"Image already exists: {filename}\")\n",
    "\n",
    "def process_restaurants(db: Session):\n",
    "    products = db.query(Products).all()\n",
    "    print(\"Generating restaurant images...\")\n",
    "    print(products)\n",
    "    for product in tqdm(products):\n",
    "        try:\n",
    "            prompt = f\"A high-quality, realistic image thumbnail of a {product.name} by {product.brand}. The product is displayed on a clean, white background with soft shadows to make it stand out. The image is crisp and clear, showcasing the product's details, texture, and branding elements. This image will be used as a thumbnail for an online store, so the product should be centered, well-lit, and visually appealing.\"\n",
    "            filename = os.path.join('../../../frontend/src/assets/', product.image)\n",
    "            generate_and_save_image(prompt, filename)\n",
    "        except Exception as e:\n",
    "            print(e)\n",
    "\n",
    "\n",
    "# Get the database session\n",
    "db = SessionLocal()\n",
    "\n",
    "try:\n",
    "    # Process restaurants and foods\n",
    "    process_restaurants(db)\n",
    "except Exception as e:\n",
    "    print(e)\n",
    "\n",
    "finally:\n",
    "    # Close the session\n",
    "    db.close()"
   ]
  }
 ],
 "metadata": {
  "kernelspec": {
   "display_name": "Python 3",
   "language": "python",
   "name": "python3"
  },
  "language_info": {
   "codemirror_mode": {
    "name": "ipython",
    "version": 3
   },
   "file_extension": ".py",
   "mimetype": "text/x-python",
   "name": "python",
   "nbconvert_exporter": "python",
   "pygments_lexer": "ipython3",
   "version": "3.9.6"
  },
  "orig_nbformat": 4
 },
 "nbformat": 4,
 "nbformat_minor": 2
}
